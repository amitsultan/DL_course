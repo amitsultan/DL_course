{
 "cells": [
  {
   "cell_type": "code",
   "execution_count": null,
   "id": "32661099-a943-43b8-9622-c32a81ff83c3",
   "metadata": {},
   "outputs": [
    {
     "name": "stdout",
     "output_type": "stream",
     "text": [
      "0 [D loss: 0.797738, acc.: 50.00%] [G loss: 0.709322]\n",
      "10 [D loss: 0.713567, acc.: 54.69%] [G loss: 0.676001]\n",
      "20 [D loss: 0.710873, acc.: 56.25%] [G loss: 0.822266]\n"
     ]
    }
   ],
   "source": [
    "from scipy.io import arff\n",
    "import pandas as pd\n",
    "from GAN2 import GAN\n",
    "from Dataset import Dataset\n",
    "\n",
    "\n",
    "dataset_name = \"diabetes\"\n",
    "data = Dataset(f'Assignment 4 files/{dataset_name}.arff')\n",
    "data.norm(method='MinMaxScaler')\n",
    "gan = GAN(32, 0.0002, 100, data.norm_df.shape[1])\n",
    "history = gan.train(data.norm_df, dataset_name, 200+1, 10)\n"
   ]
  },
  {
   "cell_type": "code",
   "execution_count": null,
   "id": "035debf9-652f-4e28-b3ff-88cda2626f55",
   "metadata": {},
   "outputs": [],
   "source": [
    "import matplotlib.pyplot as plt\n",
    "import numpy as np\n",
    "from sklearn.decomposition import PCA\n",
    "\n",
    "seed = 17\n",
    "np.random.seed(seed)\n",
    "\n",
    "base_dir = 'model/'\n",
    "\n",
    "#Actual fraud data visualization\n",
    "model_steps = [ 0, 10, 20, 30, 40, 50, 100, 150, 170, 200]\n",
    "\n",
    "\n",
    "def plot_gan_generations(data, gan, model_steps, dataset, test_size=100, noise_dim=100):\n",
    "    z = np.random.normal(size=(test_size, noise_dim))\n",
    "    real = gan.get_data_batch(train=data.norm_df, batch_size=test_size, seed=seed)\n",
    "    real_samples = pd.DataFrame(real)\n",
    "    models = {'GAN': ['GAN', False, gan.generator]}\n",
    "    fig, ax = plt.subplots(5, 2, figsize=(12, 16))\n",
    "    # PCA\n",
    "    scalar = PCA(n_components=2, svd_solver='full')\n",
    "    scalar.fit(data.norm_df.values)\n",
    "    X_embedded = scalar.transform(data.norm_df.values)\n",
    "    for model_step_ix, model_step in enumerate(model_steps):      \n",
    "        [model_name, with_class, generator_model] = models['GAN']\n",
    "        generator_model.load_weights( base_dir + dataset+'_generator_model_weights_step_'+str(model_step)+'.h5')\n",
    "        g_z = generator_model.predict(z)\n",
    "        g_z_emb = scalar.transform(g_z)\n",
    "        ax[model_step_ix // 2, model_step_ix % 2].scatter(X_embedded[:,0], X_embedded[:,1], c='b')\n",
    "        ax[model_step_ix // 2, model_step_ix % 2].scatter(g_z_emb[:, 0], g_z_emb[:, 1], c='r')\n",
    "        ax[model_step_ix // 2, model_step_ix % 2].set_title(f'model steps: {model_step}')"
   ]
  },
  {
   "cell_type": "code",
   "execution_count": null,
   "id": "d1017cea-045d-41e3-abd1-82e7465af1b4",
   "metadata": {},
   "outputs": [],
   "source": [
    "plot_gan_generations(data, gan, model_steps, dataset_name)"
   ]
  },
  {
   "cell_type": "code",
   "execution_count": null,
   "id": "5364d1bf-3463-46bc-9050-0bf36d3f7218",
   "metadata": {},
   "outputs": [],
   "source": []
  }
 ],
 "metadata": {
  "kernelspec": {
   "display_name": "msrs kernel",
   "language": "python",
   "name": "msrs"
  },
  "language_info": {
   "codemirror_mode": {
    "name": "ipython",
    "version": 3
   },
   "file_extension": ".py",
   "mimetype": "text/x-python",
   "name": "python",
   "nbconvert_exporter": "python",
   "pygments_lexer": "ipython3",
   "version": "3.7.11"
  }
 },
 "nbformat": 4,
 "nbformat_minor": 5
}
